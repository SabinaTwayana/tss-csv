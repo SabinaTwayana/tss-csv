{
 "cells": [
  {
   "cell_type": "code",
   "execution_count": 1,
   "metadata": {},
   "outputs": [
    {
     "name": "stderr",
     "output_type": "stream",
     "text": [
      "C:\\Users\\DELL\\AppData\\Local\\Temp\\ipykernel_30748\\1001378287.py:16: FutureWarning: The 'delim_whitespace' keyword in pd.read_csv is deprecated and will be removed in a future version. Use ``sep='\\s+'`` instead\n",
      "  data = pd.read_csv(file_path, delim_whitespace=True, skiprows=3, names=['Date', 'Value'])\n",
      "C:\\Users\\DELL\\AppData\\Local\\Temp\\ipykernel_30748\\1001378287.py:16: FutureWarning: The 'delim_whitespace' keyword in pd.read_csv is deprecated and will be removed in a future version. Use ``sep='\\s+'`` instead\n",
      "  data = pd.read_csv(file_path, delim_whitespace=True, skiprows=3, names=['Date', 'Value'])\n",
      "C:\\Users\\DELL\\AppData\\Local\\Temp\\ipykernel_30748\\1001378287.py:16: FutureWarning: The 'delim_whitespace' keyword in pd.read_csv is deprecated and will be removed in a future version. Use ``sep='\\s+'`` instead\n",
      "  data = pd.read_csv(file_path, delim_whitespace=True, skiprows=3, names=['Date', 'Value'])\n",
      "C:\\Users\\DELL\\AppData\\Local\\Temp\\ipykernel_30748\\1001378287.py:16: FutureWarning: The 'delim_whitespace' keyword in pd.read_csv is deprecated and will be removed in a future version. Use ``sep='\\s+'`` instead\n",
      "  data = pd.read_csv(file_path, delim_whitespace=True, skiprows=3, names=['Date', 'Value'])\n",
      "C:\\Users\\DELL\\AppData\\Local\\Temp\\ipykernel_30748\\1001378287.py:16: FutureWarning: The 'delim_whitespace' keyword in pd.read_csv is deprecated and will be removed in a future version. Use ``sep='\\s+'`` instead\n",
      "  data = pd.read_csv(file_path, delim_whitespace=True, skiprows=3, names=['Date', 'Value'])\n"
     ]
    }
   ],
   "source": [
    "import pandas as pd\n",
    "import os\n",
    "\n",
    "# Path to the directory containing the files\n",
    "directory = r\"D:\\GDM_MODEL_1\\GDM Model-DISTRIBUTION PACK\\GDM Model\\calibrationandvalidataion\\validation\\validationdata\"\n",
    "\n",
    "# List of file names\n",
    "files = ['Snowmelt.tss', 'Icemelt.tss', 'Baseflow.tss', 'Rain.tss','discharge.tss']\n",
    "\n",
    "# Loop through each file\n",
    "for file in files:\n",
    "    # Construct the full path to the file\n",
    "    file_path = os.path.join(directory, file)\n",
    "    \n",
    "    # Read the data into a DataFrame\n",
    "    data = pd.read_csv(file_path, delim_whitespace=True, skiprows=3, names=['Date', 'Value'])\n",
    "    \n",
    "    # Remove the extension from the filename and add .csv\n",
    "    output_file = os.path.splitext(file)[0] + '.csv'\n",
    "    \n",
    "    # Write the data to a CSV file\n",
    "    data.to_csv(os.path.join(directory, output_file), index=False)\n"
   ]
  },
  {
   "cell_type": "code",
   "execution_count": 2,
   "metadata": {},
   "outputs": [
    {
     "name": "stdout",
     "output_type": "stream",
     "text": [
      "Combined CSV files into a single Excel file with different sheets.\n"
     ]
    }
   ],
   "source": [
    "import pandas as pd\n",
    "\n",
    "# List of CSV file names\n",
    "files = ['Snowmelt.csv', 'Icemelt.csv', 'Baseflow.csv', 'Rain.csv','discharge.csv']\n",
    "\n",
    "# Path for the output Excel file\n",
    "output_excel = \"output.xlsx\"\n",
    "\n",
    "# Excel writer object to write multiple dataframes to the same file\n",
    "with pd.ExcelWriter(output_excel) as writer:\n",
    "    # Loop through each CSV file\n",
    "    for file in files:\n",
    "        # Read the CSV file into a DataFrame\n",
    "        df = pd.read_csv(file)\n",
    "        \n",
    "        # Extract filename for use as the sheet name\n",
    "        sheet_name = file.split('.')[0]\n",
    "        \n",
    "        # Write the DataFrame to a sheet in the Excel file\n",
    "        df.to_excel(writer, sheet_name=sheet_name, index=False)\n",
    "\n",
    "print(\"Combined CSV files into a single Excel file with different sheets.\")\n"
   ]
  },
  {
   "cell_type": "code",
   "execution_count": 6,
   "metadata": {},
   "outputs": [
    {
     "name": "stdout",
     "output_type": "stream",
     "text": [
      "Combined data from multiple Excel files into a single Excel file with multiple sheets.\n"
     ]
    }
   ],
   "source": [
    "import pandas as pd\n",
    "\n",
    "# List of input Excel file names\n",
    "input_files = [r'D:\\GDM_MODEL_1\\GDM Model-DISTRIBUTION PACK\\GDM Model\\calibrationandvalidataion\\calibrationdata\\output.xlsx', r'D:\\GDM_MODEL_1\\GDM Model-DISTRIBUTION PACK\\GDM Model\\calibrationandvalidataion\\validationdata\\output.xlsx']\n",
    "\n",
    "# Output Excel file name\n",
    "output_excel = \"combined_data.xlsx\"\n",
    "\n",
    "# Dictionary to store DataFrames for each sheet\n",
    "combined_dfs = {}\n",
    "\n",
    "# Loop through each input Excel file\n",
    "for file in input_files:\n",
    "    # Read all sheets into a dictionary of DataFrames\n",
    "    xls = pd.ExcelFile(file)\n",
    "    sheets = xls.sheet_names\n",
    "    \n",
    "    # Loop through each sheet\n",
    "    for sheet_name in sheets:\n",
    "        # Read the data into a DataFrame\n",
    "        df = pd.read_excel(xls, sheet_name=sheet_name)\n",
    "        \n",
    "        # Check if the sheet exists in the dictionary\n",
    "        if sheet_name in combined_dfs:\n",
    "            # Append the data to the existing DataFrame\n",
    "            combined_dfs[sheet_name] = pd.concat([combined_dfs[sheet_name], df], ignore_index=True)\n",
    "        else:\n",
    "            # Add the DataFrame to the dictionary\n",
    "            combined_dfs[sheet_name] = df\n",
    "\n",
    "# Write the combined data to a single Excel file with multiple sheets\n",
    "with pd.ExcelWriter(output_excel) as writer:\n",
    "    for sheet_name, df in combined_dfs.items():\n",
    "        df.to_excel(writer, sheet_name=sheet_name, index=False)\n",
    "\n",
    "print(\"Combined data from multiple Excel files into a single Excel file with multiple sheets.\")\n"
   ]
  },
  {
   "cell_type": "code",
   "execution_count": 3,
   "metadata": {},
   "outputs": [],
   "source": [
    "from pcraster import *\n",
    "aguila(r\"D:\\GDM_MODEL_1\\GDM Model-DISTRIBUTION PACK\\GDM Model\\calibrationandvalidataion\\validation\\validationdata\\discharge.tss\")\n"
   ]
  }
 ],
 "metadata": {
  "kernelspec": {
   "display_name": "gdm_env",
   "language": "python",
   "name": "python3"
  },
  "language_info": {
   "codemirror_mode": {
    "name": "ipython",
    "version": 3
   },
   "file_extension": ".py",
   "mimetype": "text/x-python",
   "name": "python",
   "nbconvert_exporter": "python",
   "pygments_lexer": "ipython3",
   "version": "3.10.14"
  }
 },
 "nbformat": 4,
 "nbformat_minor": 2
}
