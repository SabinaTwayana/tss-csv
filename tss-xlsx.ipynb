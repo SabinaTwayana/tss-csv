{
 "cells": [
  {
   "cell_type": "code",
   "execution_count": null,
   "metadata": {},
   "outputs": [],
   "source": [
    "import pandas as pd\n",
    "\n",
    "# Read the .tss file\n",
    "with open(r'D:\\GDM_MODEL_1\\GDM Model-DISTRIBUTION PACK\\GDM Model\\calibrationandvalidataion\\discharge.tss', 'r') as file:\n",
    "    lines = file.readlines()\n",
    "\n",
    "# Parse each line based on your file's format\n",
    "data = []\n",
    "for line in lines:\n",
    "    # Assuming each line contains values separated by spaces\n",
    "    values = line.strip().split()  \n",
    "    data.append(values)\n",
    "\n",
    "# Create a DataFrame from the parsed data\n",
    "df = pd.DataFrame(data)\n",
    "\n",
    "# Write the DataFrame to an XLSX file\n",
    "df.to_excel('output_file.xlsx', index=False)\n"
   ]
  }
 ],
 "metadata": {
  "kernelspec": {
   "display_name": "gdm_env",
   "language": "python",
   "name": "python3"
  },
  "language_info": {
   "name": "python",
   "version": "3.10.14"
  }
 },
 "nbformat": 4,
 "nbformat_minor": 2
}
