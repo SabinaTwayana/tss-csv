{
 "cells": [
  {
   "cell_type": "code",
   "execution_count": 5,
   "metadata": {},
   "outputs": [
    {
     "name": "stdout",
     "output_type": "stream",
     "text": [
      "Data sorted and written to output.xlsx.\n"
     ]
    }
   ],
   "source": [
    "import pandas as pd\n",
    "\n",
    "# Input Excel file name\n",
    "input_excel = r'D:\\GDM_MODEL_1\\GDM Model-DISTRIBUTION PACK\\GDM Model\\calibrationandvalidataion\\contribution\\combined_data.xlsx'\n",
    "\n",
    "\n",
    "# Output Excel file name\n",
    "output_excel = 'outputcontribution.xlsx'\n",
    "\n",
    "# Read data from the Snowmelt sheet into a DataFrame\n",
    "snowmelt_df = pd.read_excel(input_excel, sheet_name='discharge')\n",
    "\n",
    "# Convert 'Date' column to datetime format\n",
    "snowmelt_df['Date'] = pd.to_datetime(snowmelt_df['Date'])\n",
    "\n",
    "# Extract month from the Date column\n",
    "snowmelt_df['Month'] = snowmelt_df['Date'].dt.month\n",
    "\n",
    "# Group by month and sort each group\n",
    "sorted_groups = [group.sort_values(by='Date') for _, group in snowmelt_df.groupby('Month')]\n",
    "\n",
    "# Concatenate the sorted groups back together\n",
    "sorted_snowmelt_df = pd.concat(sorted_groups, ignore_index=True)\n",
    "\n",
    "# Write the sorted data to a new Excel file\n",
    "sorted_snowmelt_df.to_excel(output_excel, index=False)\n",
    "\n",
    "print(\"Data sorted and written to output.xlsx.\")\n"
   ]
  }
 ],
 "metadata": {
  "kernelspec": {
   "display_name": "gdm_env",
   "language": "python",
   "name": "python3"
  },
  "language_info": {
   "codemirror_mode": {
    "name": "ipython",
    "version": 3
   },
   "file_extension": ".py",
   "mimetype": "text/x-python",
   "name": "python",
   "nbconvert_exporter": "python",
   "pygments_lexer": "ipython3",
   "version": "3.10.14"
  }
 },
 "nbformat": 4,
 "nbformat_minor": 2
}
