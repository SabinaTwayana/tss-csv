{
 "cells": [
  {
   "cell_type": "code",
   "execution_count": 6,
   "metadata": {},
   "outputs": [
    {
     "name": "stderr",
     "output_type": "stream",
     "text": [
      "C:\\Users\\DELL\\AppData\\Local\\Temp\\ipykernel_14564\\802614828.py:16: FutureWarning: The 'delim_whitespace' keyword in pd.read_csv is deprecated and will be removed in a future version. Use ``sep='\\s+'`` instead\n",
      "  data = pd.read_csv(file_path, delim_whitespace=True, skiprows=3, names=['Date', 'Value'])\n",
      "C:\\Users\\DELL\\AppData\\Local\\Temp\\ipykernel_14564\\802614828.py:16: FutureWarning: The 'delim_whitespace' keyword in pd.read_csv is deprecated and will be removed in a future version. Use ``sep='\\s+'`` instead\n",
      "  data = pd.read_csv(file_path, delim_whitespace=True, skiprows=3, names=['Date', 'Value'])\n",
      "C:\\Users\\DELL\\AppData\\Local\\Temp\\ipykernel_14564\\802614828.py:16: FutureWarning: The 'delim_whitespace' keyword in pd.read_csv is deprecated and will be removed in a future version. Use ``sep='\\s+'`` instead\n",
      "  data = pd.read_csv(file_path, delim_whitespace=True, skiprows=3, names=['Date', 'Value'])\n",
      "C:\\Users\\DELL\\AppData\\Local\\Temp\\ipykernel_14564\\802614828.py:16: FutureWarning: The 'delim_whitespace' keyword in pd.read_csv is deprecated and will be removed in a future version. Use ``sep='\\s+'`` instead\n",
      "  data = pd.read_csv(file_path, delim_whitespace=True, skiprows=3, names=['Date', 'Value'])\n",
      "C:\\Users\\DELL\\AppData\\Local\\Temp\\ipykernel_14564\\802614828.py:16: FutureWarning: The 'delim_whitespace' keyword in pd.read_csv is deprecated and will be removed in a future version. Use ``sep='\\s+'`` instead\n",
      "  data = pd.read_csv(file_path, delim_whitespace=True, skiprows=3, names=['Date', 'Value'])\n"
     ]
    }
   ],
   "source": [
    "import pandas as pd\n",
    "import os\n",
    "\n",
    "# Path to the directory containing the files\n",
    "directory = \"D:\\GDM_MODEL_1\\GDM Model-DISTRIBUTION PACK\\GDM Model\\calibrationandvalidataion\\calibration\\calibrationdata\"\n",
    "\n",
    "# List of file names\n",
    "files = ['Snowmelt.tss', 'Icemelt.tss', 'Baseflow.tss','Rain.tss','discharge.tss']\n",
    "\n",
    "# Loop through each file\n",
    "for file in files:\n",
    "    # Construct the full path to the file\n",
    "    file_path = os.path.join(directory, file)\n",
    "    \n",
    "    # Read the data into a DataFrame\n",
    "    data = pd.read_csv(file_path, delim_whitespace=True, skiprows=3, names=['Date', 'Value'])\n",
    "    \n",
    "    # Remove the extension from the filename and add .csv\n",
    "    output_file = os.path.splitext(file)[0] + '.csv'\n",
    "    \n",
    "    # Write the data to a CSV file\n",
    "    data.to_csv(os.path.join(directory, output_file), index=False)\n"
   ]
  },
  {
   "cell_type": "code",
   "execution_count": 3,
   "metadata": {},
   "outputs": [
    {
     "name": "stdout",
     "output_type": "stream",
     "text": [
      "Combined CSV files into a single Excel file with different sheets.\n"
     ]
    }
   ],
   "source": [
    "import pandas as pd\n",
    "\n",
    "# List of CSV file names\n",
    "files = ['Snowmelt.csv', 'Icemelt.csv', 'Baseflow.csv', 'Rain.csv','discharge.csv']\n",
    "\n",
    "# Path for the output Excel file\n",
    "output_excel = \"output.xlsx\"\n",
    "\n",
    "# Excel writer object to write multiple dataframes to the same file\n",
    "with pd.ExcelWriter(output_excel) as writer:\n",
    "    # Loop through each CSV file\n",
    "    for file in files:\n",
    "        # Read the CSV file into a DataFrame\n",
    "        df = pd.read_csv(file)\n",
    "        \n",
    "        # Extract filename for use as the sheet name\n",
    "        sheet_name = file.split('.')[0]\n",
    "        \n",
    "        # Write the DataFrame to a sheet in the Excel file\n",
    "        df.to_excel(writer, sheet_name=sheet_name, index=False)\n",
    "\n",
    "print(\"Combined CSV files into a single Excel file with different sheets.\")\n"
   ]
  }
 ],
 "metadata": {
  "kernelspec": {
   "display_name": "gdm_env",
   "language": "python",
   "name": "python3"
  },
  "language_info": {
   "codemirror_mode": {
    "name": "ipython",
    "version": 3
   },
   "file_extension": ".py",
   "mimetype": "text/x-python",
   "name": "python",
   "nbconvert_exporter": "python",
   "pygments_lexer": "ipython3",
   "version": "3.10.14"
  }
 },
 "nbformat": 4,
 "nbformat_minor": 2
}
